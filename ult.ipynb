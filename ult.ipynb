{
 "cells": [
  {
   "cell_type": "code",
   "execution_count": 2,
   "metadata": {
    "collapsed": true
   },
   "outputs": [],
   "source": [
    "import pandas as pd\n",
    "import matplotlib\n",
    "import matplotlib.patches as patches\n",
    "import numpy as np\n",
    "from sklearn import  linear_model\n",
    "from scipy.stats import pearsonr\n",
    "import matplotlib.pyplot as plt\n",
    "#from adjustText import adjust_text"
   ]
  },
  {
   "cell_type": "code",
   "execution_count": 3,
   "outputs": [
    {
     "data": {
      "text/plain": "          date   strain    stress\n0   2020-11-05  1.16570  0.074619\n1   2021-03-22  1.49670  0.125089\n2   2021-04-27  1.13750  3.988286\n3   2021-04-28  2.69600  1.518680\n4   2021-07-01  5.96400  0.119344\n5   2021-09-01  1.24720  0.604000\n6   2021-12-08  3.50070  0.725767\n7   2021-12-08  2.35040  0.762100\n8   2022-01-13  1.88920  3.575200\n9   2022-04-18  3.45030  1.397000\n10  2023-02-16  1.26258  0.612000\n11  2023-02-25  1.49550  0.509500",
      "text/html": "<div>\n<style scoped>\n    .dataframe tbody tr th:only-of-type {\n        vertical-align: middle;\n    }\n\n    .dataframe tbody tr th {\n        vertical-align: top;\n    }\n\n    .dataframe thead th {\n        text-align: right;\n    }\n</style>\n<table border=\"1\" class=\"dataframe\">\n  <thead>\n    <tr style=\"text-align: right;\">\n      <th></th>\n      <th>date</th>\n      <th>strain</th>\n      <th>stress</th>\n    </tr>\n  </thead>\n  <tbody>\n    <tr>\n      <th>0</th>\n      <td>2020-11-05</td>\n      <td>1.16570</td>\n      <td>0.074619</td>\n    </tr>\n    <tr>\n      <th>1</th>\n      <td>2021-03-22</td>\n      <td>1.49670</td>\n      <td>0.125089</td>\n    </tr>\n    <tr>\n      <th>2</th>\n      <td>2021-04-27</td>\n      <td>1.13750</td>\n      <td>3.988286</td>\n    </tr>\n    <tr>\n      <th>3</th>\n      <td>2021-04-28</td>\n      <td>2.69600</td>\n      <td>1.518680</td>\n    </tr>\n    <tr>\n      <th>4</th>\n      <td>2021-07-01</td>\n      <td>5.96400</td>\n      <td>0.119344</td>\n    </tr>\n    <tr>\n      <th>5</th>\n      <td>2021-09-01</td>\n      <td>1.24720</td>\n      <td>0.604000</td>\n    </tr>\n    <tr>\n      <th>6</th>\n      <td>2021-12-08</td>\n      <td>3.50070</td>\n      <td>0.725767</td>\n    </tr>\n    <tr>\n      <th>7</th>\n      <td>2021-12-08</td>\n      <td>2.35040</td>\n      <td>0.762100</td>\n    </tr>\n    <tr>\n      <th>8</th>\n      <td>2022-01-13</td>\n      <td>1.88920</td>\n      <td>3.575200</td>\n    </tr>\n    <tr>\n      <th>9</th>\n      <td>2022-04-18</td>\n      <td>3.45030</td>\n      <td>1.397000</td>\n    </tr>\n    <tr>\n      <th>10</th>\n      <td>2023-02-16</td>\n      <td>1.26258</td>\n      <td>0.612000</td>\n    </tr>\n    <tr>\n      <th>11</th>\n      <td>2023-02-25</td>\n      <td>1.49550</td>\n      <td>0.509500</td>\n    </tr>\n  </tbody>\n</table>\n</div>"
     },
     "execution_count": 3,
     "metadata": {},
     "output_type": "execute_result"
    }
   ],
   "source": [
    "ds = pd.read_csv('ia_data.csv')\n",
    "ds\n"
   ],
   "metadata": {
    "collapsed": false
   }
  },
  {
   "cell_type": "code",
   "execution_count": 4,
   "outputs": [
    {
     "data": {
      "text/plain": "<Figure size 720x504 with 1 Axes>",
      "image/png": "[encoded data removed]"
     },
     "metadata": {
      "needs_background": "light"
     },
     "output_type": "display_data"
    }
   ],
   "source": [
    "x = ds.strain.values\n",
    "y = ds.stress.values\n",
    "fig, ax = plt.subplots(figsize=(10, 7));\n",
    "ax.scatter(x, y)\n",
    "plt.show()"
   ],
   "metadata": {
    "collapsed": false
   }
  },
  {
   "cell_type": "code",
   "execution_count": null,
   "outputs": [],
   "source": [],
   "metadata": {
    "collapsed": false
   }
  }
 ],
 "metadata": {
  "kernelspec": {
   "display_name": "Python 3",
   "language": "python",
   "name": "python3"
  },
  "language_info": {
   "codemirror_mode": {
    "name": "ipython",
    "version": 2
   },
   "file_extension": ".py",
   "mimetype": "text/x-python",
   "name": "python",
   "nbconvert_exporter": "python",
   "pygments_lexer": "ipython2",
   "version": "2.7.6"
  }
 },
 "nbformat": 4,
 "nbformat_minor": 0
}
